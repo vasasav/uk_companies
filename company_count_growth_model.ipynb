{
 "cells": [
  {
   "cell_type": "markdown",
   "id": "949b94b1-fb6b-4a40-82e8-9c6dacb2ea5f",
   "metadata": {},
   "source": [
    "# Model the number of (active) companies at a simplified post-code"
   ]
  },
  {
   "cell_type": "code",
   "execution_count": 1,
   "id": "45a654d5-27fa-4405-9c10-5cf349d0f5b8",
   "metadata": {},
   "outputs": [],
   "source": [
    "import pandas as pd\n",
    "import numpy as np\n",
    "import numpy.random as npr\n",
    "import duckdb as ddb\n",
    "\n",
    "import scipy as sp\n",
    "import scipy.special as sp_sp\n",
    "\n",
    "import matplotlib as mpl\n",
    "import matplotlib.pyplot as pp\n",
    "import matplotlib.cm as cm\n",
    "\n",
    "import datetime as dt\n",
    "import dateutil as du"
   ]
  },
  {
   "cell_type": "markdown",
   "id": "3a446c2f-3247-49de-949a-1773e8adfc9c",
   "metadata": {},
   "source": [
    "Load the company house database"
   ]
  },
  {
   "cell_type": "code",
   "execution_count": 2,
   "id": "7cf5dfa4-402c-42e4-8724-3587a89528a4",
   "metadata": {},
   "outputs": [
    {
     "data": {
      "text/plain": [
       "<duckdb.duckdb.DuckDBPyConnection at 0x7f59c0b6b430>"
      ]
     },
     "execution_count": 2,
     "metadata": {},
     "output_type": "execute_result"
    }
   ],
   "source": [
    "db_name = 'companies_house_data/filtered_combined_data.parquet'\n",
    "con = ddb.connect()\n",
    "con.execute(\n",
    "    f\"\"\"\n",
    "    CREATE TABLE companies_house AS (\n",
    "        SELECT \n",
    "            company_name,\n",
    "            company_number,\n",
    "            sic_code,\n",
    "            company_status,\n",
    "            address_post_code,\n",
    "            inc_date,\n",
    "            REPLACE(SUBSTRING(address_post_code, 1, STRLEN(address_post_code)-2), ' ', '') AS simplified_pc,\n",
    "            CASE\n",
    "                WHEN INSTR(UPPER(company_status), 'ACTIVE')>0 THEN 1\n",
    "                ELSE 0\n",
    "            END AS active_flag\n",
    "        FROM \"{db_name}\"\n",
    "        WHERE simplified_pc IS NOT NULL\n",
    "    );\n",
    "    \"\"\"\n",
    ")"
   ]
  },
  {
   "cell_type": "markdown",
   "id": "1aa26ebb-d5fe-4d4b-9433-bc16bea933a4",
   "metadata": {},
   "source": [
    "Fields preview"
   ]
  },
  {
   "cell_type": "code",
   "execution_count": 3,
   "id": "37bc4a2c-10eb-4ea9-873e-fb6d629307ac",
   "metadata": {},
   "outputs": [
    {
     "data": {
      "text/html": [
       "<div>\n",
       "<style scoped>\n",
       "    .dataframe tbody tr th:only-of-type {\n",
       "        vertical-align: middle;\n",
       "    }\n",
       "\n",
       "    .dataframe tbody tr th {\n",
       "        vertical-align: top;\n",
       "    }\n",
       "\n",
       "    .dataframe thead th {\n",
       "        text-align: right;\n",
       "    }\n",
       "</style>\n",
       "<table border=\"1\" class=\"dataframe\">\n",
       "  <thead>\n",
       "    <tr style=\"text-align: right;\">\n",
       "      <th></th>\n",
       "      <th>company_name</th>\n",
       "      <th>company_number</th>\n",
       "      <th>sic_code</th>\n",
       "      <th>company_status</th>\n",
       "      <th>address_post_code</th>\n",
       "      <th>inc_date</th>\n",
       "      <th>simplified_pc</th>\n",
       "      <th>active_flag</th>\n",
       "    </tr>\n",
       "  </thead>\n",
       "  <tbody>\n",
       "    <tr>\n",
       "      <th>0</th>\n",
       "      <td>!NVERTD DESIGNS LIMITED</td>\n",
       "      <td>09152972</td>\n",
       "      <td>58190 - Other publishing activities</td>\n",
       "      <td>Active</td>\n",
       "      <td>RH16 4RW</td>\n",
       "      <td>2014-07-30</td>\n",
       "      <td>RH164</td>\n",
       "      <td>1</td>\n",
       "    </tr>\n",
       "    <tr>\n",
       "      <th>1</th>\n",
       "      <td>!OBAC LIMITED</td>\n",
       "      <td>FC031362</td>\n",
       "      <td>None Supplied</td>\n",
       "      <td>Active</td>\n",
       "      <td>GY1 1EW</td>\n",
       "      <td>2012-11-30</td>\n",
       "      <td>GY11</td>\n",
       "      <td>1</td>\n",
       "    </tr>\n",
       "    <tr>\n",
       "      <th>2</th>\n",
       "      <td>\"BEDE INVESTMENT PROPERTIES LIMITED\"</td>\n",
       "      <td>02871100</td>\n",
       "      <td>68100 - Buying and selling of own real estate</td>\n",
       "      <td>Active</td>\n",
       "      <td>W12 8LA</td>\n",
       "      <td>1993-11-12</td>\n",
       "      <td>W128</td>\n",
       "      <td>1</td>\n",
       "    </tr>\n",
       "    <tr>\n",
       "      <th>3</th>\n",
       "      <td>\"BSP RETAIL\" LIMITED</td>\n",
       "      <td>10813901</td>\n",
       "      <td>47110 - Retail sale in non-specialised stores ...</td>\n",
       "      <td>Active - Proposal to Strike off</td>\n",
       "      <td>CM0 7TJ</td>\n",
       "      <td>2017-06-12</td>\n",
       "      <td>CM07</td>\n",
       "      <td>1</td>\n",
       "    </tr>\n",
       "    <tr>\n",
       "      <th>4</th>\n",
       "      <td>\"CANNON CHAMBERS\" 17 CANNON PLACE MANAGEMENT L...</td>\n",
       "      <td>02076454</td>\n",
       "      <td>74990 - Non-trading company</td>\n",
       "      <td>Active</td>\n",
       "      <td>NW3 1EH</td>\n",
       "      <td>1986-11-21</td>\n",
       "      <td>NW31</td>\n",
       "      <td>1</td>\n",
       "    </tr>\n",
       "  </tbody>\n",
       "</table>\n",
       "</div>"
      ],
      "text/plain": [
       "                                        company_name company_number  \\\n",
       "0                            !NVERTD DESIGNS LIMITED       09152972   \n",
       "1                                      !OBAC LIMITED       FC031362   \n",
       "2               \"BEDE INVESTMENT PROPERTIES LIMITED\"       02871100   \n",
       "3                               \"BSP RETAIL\" LIMITED       10813901   \n",
       "4  \"CANNON CHAMBERS\" 17 CANNON PLACE MANAGEMENT L...       02076454   \n",
       "\n",
       "                                            sic_code  \\\n",
       "0                58190 - Other publishing activities   \n",
       "1                                      None Supplied   \n",
       "2      68100 - Buying and selling of own real estate   \n",
       "3  47110 - Retail sale in non-specialised stores ...   \n",
       "4                        74990 - Non-trading company   \n",
       "\n",
       "                    company_status address_post_code   inc_date simplified_pc  \\\n",
       "0                           Active          RH16 4RW 2014-07-30         RH164   \n",
       "1                           Active           GY1 1EW 2012-11-30          GY11   \n",
       "2                           Active           W12 8LA 1993-11-12          W128   \n",
       "3  Active - Proposal to Strike off           CM0 7TJ 2017-06-12          CM07   \n",
       "4                           Active           NW3 1EH 1986-11-21          NW31   \n",
       "\n",
       "   active_flag  \n",
       "0            1  \n",
       "1            1  \n",
       "2            1  \n",
       "3            1  \n",
       "4            1  "
      ]
     },
     "execution_count": 3,
     "metadata": {},
     "output_type": "execute_result"
    }
   ],
   "source": [
    "con.execute(\n",
    "    f\"\"\"\n",
    "    SELECT *  FROM companies_house WHERE RANDOM()<0.05 LIMIT 5;\n",
    "    \"\"\"\n",
    ").fetchdf()"
   ]
  },
  {
   "cell_type": "markdown",
   "id": "1178d40d-0b7d-4c9e-bf54-b695e6764494",
   "metadata": {},
   "source": [
    "Check the split of companies between status"
   ]
  },
  {
   "cell_type": "code",
   "execution_count": 4,
   "id": "2b694236-5c2f-4193-ba45-2b6d4e8ab309",
   "metadata": {},
   "outputs": [
    {
     "data": {
      "text/html": [
       "<div>\n",
       "<style scoped>\n",
       "    .dataframe tbody tr th:only-of-type {\n",
       "        vertical-align: middle;\n",
       "    }\n",
       "\n",
       "    .dataframe tbody tr th {\n",
       "        vertical-align: top;\n",
       "    }\n",
       "\n",
       "    .dataframe thead th {\n",
       "        text-align: right;\n",
       "    }\n",
       "</style>\n",
       "<table border=\"1\" class=\"dataframe\">\n",
       "  <thead>\n",
       "    <tr style=\"text-align: right;\">\n",
       "      <th></th>\n",
       "      <th>company_status</th>\n",
       "      <th>active_flag</th>\n",
       "      <th>per_status_count</th>\n",
       "    </tr>\n",
       "  </thead>\n",
       "  <tbody>\n",
       "    <tr>\n",
       "      <th>0</th>\n",
       "      <td>Active</td>\n",
       "      <td>1</td>\n",
       "      <td>5058718</td>\n",
       "    </tr>\n",
       "    <tr>\n",
       "      <th>1</th>\n",
       "      <td>Active - Proposal to Strike off</td>\n",
       "      <td>1</td>\n",
       "      <td>376584</td>\n",
       "    </tr>\n",
       "    <tr>\n",
       "      <th>2</th>\n",
       "      <td>Liquidation</td>\n",
       "      <td>0</td>\n",
       "      <td>109446</td>\n",
       "    </tr>\n",
       "    <tr>\n",
       "      <th>3</th>\n",
       "      <td>In Administration</td>\n",
       "      <td>0</td>\n",
       "      <td>3521</td>\n",
       "    </tr>\n",
       "    <tr>\n",
       "      <th>4</th>\n",
       "      <td>Live but Receiver Manager on at least one charge</td>\n",
       "      <td>0</td>\n",
       "      <td>1790</td>\n",
       "    </tr>\n",
       "    <tr>\n",
       "      <th>5</th>\n",
       "      <td>Voluntary Arrangement</td>\n",
       "      <td>0</td>\n",
       "      <td>550</td>\n",
       "    </tr>\n",
       "    <tr>\n",
       "      <th>6</th>\n",
       "      <td>In Administration/Administrative Receiver</td>\n",
       "      <td>0</td>\n",
       "      <td>301</td>\n",
       "    </tr>\n",
       "    <tr>\n",
       "      <th>7</th>\n",
       "      <td>RECEIVERSHIP</td>\n",
       "      <td>0</td>\n",
       "      <td>175</td>\n",
       "    </tr>\n",
       "    <tr>\n",
       "      <th>8</th>\n",
       "      <td>ADMINISTRATION ORDER</td>\n",
       "      <td>0</td>\n",
       "      <td>118</td>\n",
       "    </tr>\n",
       "    <tr>\n",
       "      <th>9</th>\n",
       "      <td>ADMINISTRATIVE RECEIVER</td>\n",
       "      <td>0</td>\n",
       "      <td>106</td>\n",
       "    </tr>\n",
       "    <tr>\n",
       "      <th>10</th>\n",
       "      <td>In Administration/Receiver Manager</td>\n",
       "      <td>0</td>\n",
       "      <td>40</td>\n",
       "    </tr>\n",
       "    <tr>\n",
       "      <th>11</th>\n",
       "      <td>RECEIVER MANAGER / ADMINISTRATIVE RECEIVER</td>\n",
       "      <td>0</td>\n",
       "      <td>9</td>\n",
       "    </tr>\n",
       "    <tr>\n",
       "      <th>12</th>\n",
       "      <td>VOLUNTARY ARRANGEMENT / RECEIVER MANAGER</td>\n",
       "      <td>0</td>\n",
       "      <td>1</td>\n",
       "    </tr>\n",
       "    <tr>\n",
       "      <th>13</th>\n",
       "      <td>VOLUNTARY ARRANGEMENT / ADMINISTRATIVE RECEIVER</td>\n",
       "      <td>0</td>\n",
       "      <td>1</td>\n",
       "    </tr>\n",
       "  </tbody>\n",
       "</table>\n",
       "</div>"
      ],
      "text/plain": [
       "                                      company_status  active_flag  \\\n",
       "0                                             Active            1   \n",
       "1                    Active - Proposal to Strike off            1   \n",
       "2                                        Liquidation            0   \n",
       "3                                  In Administration            0   \n",
       "4   Live but Receiver Manager on at least one charge            0   \n",
       "5                              Voluntary Arrangement            0   \n",
       "6          In Administration/Administrative Receiver            0   \n",
       "7                                       RECEIVERSHIP            0   \n",
       "8                               ADMINISTRATION ORDER            0   \n",
       "9                            ADMINISTRATIVE RECEIVER            0   \n",
       "10                In Administration/Receiver Manager            0   \n",
       "11        RECEIVER MANAGER / ADMINISTRATIVE RECEIVER            0   \n",
       "12          VOLUNTARY ARRANGEMENT / RECEIVER MANAGER            0   \n",
       "13   VOLUNTARY ARRANGEMENT / ADMINISTRATIVE RECEIVER            0   \n",
       "\n",
       "    per_status_count  \n",
       "0            5058718  \n",
       "1             376584  \n",
       "2             109446  \n",
       "3               3521  \n",
       "4               1790  \n",
       "5                550  \n",
       "6                301  \n",
       "7                175  \n",
       "8                118  \n",
       "9                106  \n",
       "10                40  \n",
       "11                 9  \n",
       "12                 1  \n",
       "13                 1  "
      ]
     },
     "execution_count": 4,
     "metadata": {},
     "output_type": "execute_result"
    }
   ],
   "source": [
    "con.execute(\n",
    "    f\"\"\"\n",
    "    SELECT \n",
    "        * \n",
    "    FROM (\n",
    "        SELECT\n",
    "            company_status,\n",
    "            active_flag,\n",
    "            COUNT(DISTINCT company_number) AS per_status_count\n",
    "        FROM companies_house\n",
    "        GROUP BY company_status, active_flag\n",
    "    )\n",
    "    ORDER BY per_status_count DESC\n",
    "    LIMIT 20;\n",
    "    \"\"\"\n",
    ").fetchdf()"
   ]
  },
  {
   "cell_type": "markdown",
   "id": "a0d42d9e-bbbf-4ba6-82c7-a632aff918a8",
   "metadata": {},
   "source": [
    "Identify simplified post-codes where there are a lot of companies, but also a sizeable portion of no-longer active companies"
   ]
  },
  {
   "cell_type": "code",
   "execution_count": 5,
   "id": "8f686fde-1646-4c6a-8b9d-b699eb461bb6",
   "metadata": {},
   "outputs": [
    {
     "name": "stdout",
     "output_type": "stream",
     "text": [
      "Got 12 records\n"
     ]
    },
    {
     "data": {
      "text/html": [
       "<div>\n",
       "<style scoped>\n",
       "    .dataframe tbody tr th:only-of-type {\n",
       "        vertical-align: middle;\n",
       "    }\n",
       "\n",
       "    .dataframe tbody tr th {\n",
       "        vertical-align: top;\n",
       "    }\n",
       "\n",
       "    .dataframe thead th {\n",
       "        text-align: right;\n",
       "    }\n",
       "</style>\n",
       "<table border=\"1\" class=\"dataframe\">\n",
       "  <thead>\n",
       "    <tr style=\"text-align: right;\">\n",
       "      <th></th>\n",
       "      <th>simplified_pc</th>\n",
       "      <th>active_company_count</th>\n",
       "      <th>company_count</th>\n",
       "    </tr>\n",
       "  </thead>\n",
       "  <tbody>\n",
       "    <tr>\n",
       "      <th>0</th>\n",
       "      <td>NN15</td>\n",
       "      <td>1415</td>\n",
       "      <td>2709</td>\n",
       "    </tr>\n",
       "    <tr>\n",
       "      <th>1</th>\n",
       "      <td>M24</td>\n",
       "      <td>1134</td>\n",
       "      <td>1989</td>\n",
       "    </tr>\n",
       "    <tr>\n",
       "      <th>2</th>\n",
       "      <td>OL11</td>\n",
       "      <td>978</td>\n",
       "      <td>1930</td>\n",
       "    </tr>\n",
       "    <tr>\n",
       "      <th>3</th>\n",
       "      <td>N28</td>\n",
       "      <td>914</td>\n",
       "      <td>1645</td>\n",
       "    </tr>\n",
       "    <tr>\n",
       "      <th>4</th>\n",
       "      <td>SS93</td>\n",
       "      <td>828</td>\n",
       "      <td>1458</td>\n",
       "    </tr>\n",
       "    <tr>\n",
       "      <th>5</th>\n",
       "      <td>M206</td>\n",
       "      <td>811</td>\n",
       "      <td>1397</td>\n",
       "    </tr>\n",
       "    <tr>\n",
       "      <th>6</th>\n",
       "      <td>SA14</td>\n",
       "      <td>794</td>\n",
       "      <td>1451</td>\n",
       "    </tr>\n",
       "    <tr>\n",
       "      <th>7</th>\n",
       "      <td>DD13</td>\n",
       "      <td>671</td>\n",
       "      <td>1297</td>\n",
       "    </tr>\n",
       "    <tr>\n",
       "      <th>8</th>\n",
       "      <td>DN31</td>\n",
       "      <td>313</td>\n",
       "      <td>541</td>\n",
       "    </tr>\n",
       "    <tr>\n",
       "      <th>9</th>\n",
       "      <td>NE18</td>\n",
       "      <td>254</td>\n",
       "      <td>482</td>\n",
       "    </tr>\n",
       "  </tbody>\n",
       "</table>\n",
       "</div>"
      ],
      "text/plain": [
       "  simplified_pc  active_company_count  company_count\n",
       "0          NN15                  1415           2709\n",
       "1           M24                  1134           1989\n",
       "2          OL11                   978           1930\n",
       "3           N28                   914           1645\n",
       "4          SS93                   828           1458\n",
       "5          M206                   811           1397\n",
       "6          SA14                   794           1451\n",
       "7          DD13                   671           1297\n",
       "8          DN31                   313            541\n",
       "9          NE18                   254            482"
      ]
     },
     "execution_count": 5,
     "metadata": {},
     "output_type": "execute_result"
    }
   ],
   "source": [
    "filtered_spc_df = con.execute(\n",
    "    f\"\"\"\n",
    "    SELECT \n",
    "        * \n",
    "    FROM (\n",
    "        SELECT\n",
    "            simplified_pc,\n",
    "            COUNT(DISTINCT CASE WHEN active_flag=1 THEN company_number ELSE NULL END) AS active_company_count,\n",
    "            COUNT(DISTINCT company_number) AS company_count\n",
    "        FROM companies_house\n",
    "        WHERE inc_date > (DATE'1999-12-31')\n",
    "        GROUP BY simplified_pc\n",
    "    )\n",
    "    WHERE \n",
    "        active_company_count<0.6*company_count\n",
    "        AND\n",
    "        active_company_count>0.5*company_count\n",
    "        AND\n",
    "        company_count > 100\n",
    "    ORDER BY active_company_count DESC\n",
    "    LIMIT 100000;\n",
    "    \"\"\"\n",
    ").fetchdf()\n",
    "\n",
    "print(f'Got {len(filtered_spc_df)} records')\n",
    "filtered_spc_df.head(10)"
   ]
  },
  {
   "cell_type": "markdown",
   "id": "b72bed07-3b72-452f-8c62-5fd03f759a6a",
   "metadata": {},
   "source": [
    "## Company growth dynamics for a single simplified postcode"
   ]
  },
  {
   "cell_type": "markdown",
   "id": "b5b068f6-59ba-4910-ad7a-fe1a43b40a79",
   "metadata": {},
   "source": [
    "Extract the number of companies incorporated in different months"
   ]
  },
  {
   "cell_type": "code",
   "execution_count": 6,
   "id": "22842579-6438-4ccc-9a96-ec7c7d7c35f6",
   "metadata": {},
   "outputs": [
    {
     "name": "stdout",
     "output_type": "stream",
     "text": [
      "Chosen simplified post-code is: TR109\n",
      "Extracted 205 rows\n"
     ]
    },
    {
     "data": {
      "text/html": [
       "<div>\n",
       "<style scoped>\n",
       "    .dataframe tbody tr th:only-of-type {\n",
       "        vertical-align: middle;\n",
       "    }\n",
       "\n",
       "    .dataframe tbody tr th {\n",
       "        vertical-align: top;\n",
       "    }\n",
       "\n",
       "    .dataframe thead th {\n",
       "        text-align: right;\n",
       "    }\n",
       "</style>\n",
       "<table border=\"1\" class=\"dataframe\">\n",
       "  <thead>\n",
       "    <tr style=\"text-align: right;\">\n",
       "      <th></th>\n",
       "      <th>inc_year</th>\n",
       "      <th>inc_month</th>\n",
       "      <th>abs_inc_month</th>\n",
       "      <th>company_count</th>\n",
       "      <th>active_company_count</th>\n",
       "    </tr>\n",
       "  </thead>\n",
       "  <tbody>\n",
       "    <tr>\n",
       "      <th>50</th>\n",
       "      <td>2000</td>\n",
       "      <td>4</td>\n",
       "      <td>24004</td>\n",
       "      <td>1</td>\n",
       "      <td>1</td>\n",
       "    </tr>\n",
       "    <tr>\n",
       "      <th>204</th>\n",
       "      <td>2000</td>\n",
       "      <td>6</td>\n",
       "      <td>24006</td>\n",
       "      <td>1</td>\n",
       "      <td>0</td>\n",
       "    </tr>\n",
       "    <tr>\n",
       "      <th>13</th>\n",
       "      <td>2000</td>\n",
       "      <td>12</td>\n",
       "      <td>24012</td>\n",
       "      <td>1</td>\n",
       "      <td>0</td>\n",
       "    </tr>\n",
       "  </tbody>\n",
       "</table>\n",
       "</div>"
      ],
      "text/plain": [
       "     inc_year  inc_month  abs_inc_month  company_count  active_company_count\n",
       "50       2000          4          24004              1                     1\n",
       "204      2000          6          24006              1                     0\n",
       "13       2000         12          24012              1                     0"
      ]
     },
     "execution_count": 6,
     "metadata": {},
     "output_type": "execute_result"
    }
   ],
   "source": [
    "chosen_spc = filtered_spc_df.simplified_pc.iloc[npr.randint(len(filtered_spc_df))]\n",
    "print(f'Chosen simplified post-code is: {chosen_spc}')\n",
    "\n",
    "inc_dynamics_df = con.execute(\n",
    "    f\"\"\"\n",
    "    WITH\n",
    "    year_month_vw AS (\n",
    "        SELECT\n",
    "            *,\n",
    "            EXTRACT(YEAR FROM inc_date) AS inc_year,\n",
    "            EXTRACT(MONTH FROM inc_date) AS inc_month\n",
    "        FROM companies_house\n",
    "        WHERE \n",
    "            simplified_pc='{chosen_spc}' \n",
    "            AND inc_date > (DATE'1999-12-31')\n",
    "    )\n",
    "\n",
    "    SELECT\n",
    "        inc_year,\n",
    "        inc_month,\n",
    "        (inc_year*12+inc_month) AS abs_inc_month,\n",
    "        COUNT(DISTINCT company_number) AS company_count,\n",
    "        COUNT(DISTINCT CASE WHEN active_flag=1 THEN company_number ELSE NULL END) AS active_company_count\n",
    "    FROM year_month_vw\n",
    "    GROUP BY inc_year, inc_month\n",
    "    LIMIT 1000\n",
    "    ;\n",
    "    \"\"\"\n",
    ").fetchdf().sort_values('abs_inc_month')\n",
    "\n",
    "print(f'Extracted {len(inc_dynamics_df)} rows')\n",
    "\n",
    "inc_dynamics_df.head(3)"
   ]
  },
  {
   "cell_type": "markdown",
   "id": "1911bddb-7a9c-48ea-aa87-0ba54b31a6fb",
   "metadata": {},
   "source": [
    "Build arrays for easier analysis. It is possible to have months with no companies incorporated. For those the number of incorporated companies is zero"
   ]
  },
  {
   "cell_type": "code",
   "execution_count": 7,
   "id": "797cdcff-fc5b-4c63-a6e0-89c992005d98",
   "metadata": {},
   "outputs": [],
   "source": [
    "min_abs_inc_month = inc_dynamics_df.abs_inc_month.min()\n",
    "max_abs_inc_month = inc_dynamics_df.abs_inc_month.max()\n",
    "min_srs = inc_dynamics_df.query(f'abs_inc_month=={min_abs_inc_month}').iloc[0,:]\n",
    "min_dt = dt.datetime(year=min_srs.inc_year, month=min_srs.inc_month, day=1)\n",
    "\n",
    "dt_list = []\n",
    "dt_str_list = []\n",
    "company_count_list = []\n",
    "\n",
    "for abs_inc_month in range(min_abs_inc_month, max_abs_inc_month+1):\n",
    "    # extract the number of companies incoroporated in this month\n",
    "    cur_df = inc_dynamics_df.query(f'abs_inc_month=={abs_inc_month}')\n",
    "    assert len(cur_df) <= 1\n",
    "    #\n",
    "    if len(cur_df) == 0:\n",
    "        inc_company_count = 0\n",
    "    else:\n",
    "        inc_company_count = cur_df.company_count.iloc[0]\n",
    "\n",
    "    # handle dates\n",
    "    cur_dt = min_dt + du.relativedelta.relativedelta(months= (abs_inc_month - min_abs_inc_month) )\n",
    "    cur_dt_str = cur_dt.strftime('%Y-%m')\n",
    "\n",
    "    company_count_list.append(inc_company_count)\n",
    "    dt_list.append(cur_dt)\n",
    "    dt_str_list.append(cur_dt_str)\n",
    "\n",
    "company_count_arr = np.array(company_count_list)"
   ]
  },
  {
   "cell_type": "markdown",
   "id": "3321d880-97ee-4f15-80c0-c7b0b73e03b7",
   "metadata": {},
   "source": [
    "Plot results number of companies incorporated every month"
   ]
  },
  {
   "cell_type": "code",
   "execution_count": 8,
   "id": "e71775b1-e603-4fa5-80f0-8e365eaf713d",
   "metadata": {},
   "outputs": [
    {
     "data": {
      "text/plain": [
       "Text(0.5, 1.0, 'Number of companies incorporated at TR109')"
      ]
     },
     "execution_count": 8,
     "metadata": {},
     "output_type": "execute_result"
    },
    {
     "data": {
      "image/png": "[encoded data removed]",
      "text/plain": [
       "<Figure size 1200x400 with 1 Axes>"
      ]
     },
     "metadata": {},
     "output_type": "display_data"
    }
   ],
   "source": [
    "\n",
    "skip_month = 24\n",
    "\n",
    "fig, ax = pp.subplots(figsize=(12, 4))\n",
    "ax.plot(np.arange(len(company_count_arr)), company_count_arr)\n",
    "ax.set_xticks(np.arange(len(company_count_arr))[::skip_month])\n",
    "ax.set_xticklabels(dt_str_list[::skip_month])\n",
    "ax.set_xlabel('Incorporation Month')\n",
    "ax.set_ylabel('number of incorporated companies')\n",
    "ax.grid()\n",
    "ax.set_title(f'Number of companies incorporated at {chosen_spc}')"
   ]
  },
  {
   "cell_type": "markdown",
   "id": "44eedce6-a2e5-44ef-ae54-f72d4f3ebfd4",
   "metadata": {},
   "source": [
    "Check that one can approximate Poisson binomial variable with a normal, in this case. First compute the parameters of the normal distribution, then sample from the Poisson binomial variable distirbution"
   ]
  },
  {
   "cell_type": "code",
   "execution_count": 9,
   "id": "0afe9883-cebd-499f-b9f9-1bf0c1168e0b",
   "metadata": {},
   "outputs": [
    {
     "name": "stdout",
     "output_type": "stream",
     "text": [
      "Approx location 347.446; approx scale 8.832\n"
     ]
    },
    {
     "data": {
      "text/plain": [
       "<matplotlib.legend.Legend at 0x7f59a417a650>"
      ]
     },
     "execution_count": 9,
     "metadata": {},
     "output_type": "execute_result"
    },
    {
     "data": {
      "image/png": "[encoded data removed]",
      "text/plain": [
       "<Figure size 600x400 with 1 Axes>"
      ]
     },
     "metadata": {},
     "output_type": "display_data"
    }
   ],
   "source": [
    "attrition_r = 0.332/100 # assumed attrition rate\n",
    "# company_count_arr is the number of companies incorporated in\n",
    "# consequtive months\n",
    "\n",
    "# compute individual terms in the sum for the approximate distribution\n",
    "# for debugging, it is useful to keep things separated\n",
    "loc_sum_arr = np.zeros(len(company_count_arr))\n",
    "var_sum_arr = np.zeros(len(company_count_arr))\n",
    "keep_prob_arr = np.zeros(len(company_count_arr))\n",
    "\n",
    "# go over the months during which the companies were incorporated\n",
    "# loop in reverse order\n",
    "for i_month, cur_add in enumerate(company_count_arr[::-1]):\n",
    "    # probability of keeping the company active\n",
    "    # (given that it was incroporated in i-th month)\n",
    "    keep_prob = (1 - attrition_r) ** (i_month)\n",
    "    \n",
    "    keep_prob_arr[i_month] = keep_prob\n",
    "    loc_sum_arr[i_month] = cur_add * keep_prob\n",
    "\n",
    "    if i_month > 0:\n",
    "        var_sum_arr[i_month] = cur_add * keep_prob * (1-keep_prob)\n",
    "\n",
    "#########\n",
    "\n",
    "approx_loc = np.sum(loc_sum_arr)\n",
    "approx_var = np.sum(var_sum_arr)\n",
    "approx_scale = np.sqrt(approx_var) \n",
    "\n",
    "print(f'Approx location {approx_loc:.3f}; approx scale {approx_scale:.3f}')\n",
    "\n",
    "\n",
    "#### sample poisson binomial variable\n",
    "\n",
    "rng = npr.default_rng()\n",
    "poibin_sample_count = 100000\n",
    "\n",
    "poibin_sum_arr = np.zeros(poibin_sample_count, dtype=int)\n",
    "\n",
    "# sample the from the poisson binomial distribution\n",
    "for i_sample in range(poibin_sample_count):\n",
    "    # sample from individual binomial distribution\n",
    "    cur_sample_arr = rng.binomial(n=company_count_arr[::-1], p=keep_prob_arr)\n",
    "    poibin_sum_arr[i_sample] = np.sum(cur_sample_arr)\n",
    "\n",
    "####### plot for comparison\n",
    "\n",
    "min_edge = int(approx_loc - 6*approx_scale)\n",
    "max_edge = int(approx_loc + 6*approx_scale)\n",
    "common_bins = np.array([*(np.arange(min_edge, max_edge+1)-0.5), max_edge+0.5])\n",
    "bin_mids = (common_bins[1:]+common_bins[:-1])/2\n",
    "bin_step = common_bins[1]-common_bins[0]\n",
    "\n",
    "# get the samples from the poisson binomial distribution and split them into bins\n",
    "# then convert this into density\n",
    "res_counts = np.histogram(poibin_sum_arr, bins=common_bins)[0]\n",
    "res_density = (res_counts/np.sum(res_counts))*(1/bin_step)\n",
    "\n",
    "# get the density of approximating normal distirbution\n",
    "normal_density = np.exp(-(bin_mids-approx_loc)**2/(2*approx_var))/np.sqrt(2*np.pi*approx_var)\n",
    "\n",
    "# plot two for comparison\n",
    "fig, ax = pp.subplots(figsize=(6, 4))\n",
    "ax.plot(bin_mids, res_density, label='Posson Binomial Variable density')\n",
    "ax.plot(bin_mids, normal_density, label='Normal distribution density')\n",
    "ax.set_xlabel('Poisson binomial variable')\n",
    "ax.set_ylabel('Probability density')\n",
    "ax.grid()\n",
    "ax.set_title(f'Attrition rate at {attrition_r*100:.3f}%')\n",
    "ax.legend()"
   ]
  },
  {
   "cell_type": "markdown",
   "id": "8dac8981-da53-4cd6-9b72-3002c9b7f8b0",
   "metadata": {},
   "source": [
    "## Systematic estimation of probability distirbution for the attrtion rate"
   ]
  },
  {
   "cell_type": "markdown",
   "id": "cae58a46-6893-4d00-94e2-5b7840ce7a9b",
   "metadata": {},
   "source": [
    "One can now systematically estimate the attrition rate. In frequentist setting one can use Maximum Likelihood estimation. In Bayesian setting, one can use normal likelihood combined with the prior for the attrition rate. If the prior is assumed to be flat, the two approaches coincide."
   ]
  },
  {
   "cell_type": "code",
   "execution_count": 10,
   "id": "fc150c02-bfbf-4226-a67c-c73c1c862e7d",
   "metadata": {},
   "outputs": [
    {
     "name": "stdout",
     "output_type": "stream",
     "text": [
      "MLE: 0.746803%\n",
      "CI: [0.648481%, 0.862910%]\n"
     ]
    },
    {
     "data": {
      "image/png": "[encoded data removed]",
      "text/plain": [
       "<Figure size 1000x300 with 1 Axes>"
      ]
     },
     "metadata": {},
     "output_type": "display_data"
    }
   ],
   "source": [
    "def observation_log_prob(\n",
    "    attrition_r,\n",
    "    incorporated_company_count_arr,\n",
    "    final_active_company_count\n",
    "):\n",
    "    month_count = len(incorporated_company_count_arr)\n",
    "    keep_prob = (1-attrition_r) ** ( (month_count-1) - np.arange(month_count))\n",
    "\n",
    "    approx_loc = np.sum(incorporated_company_count_arr * keep_prob)\n",
    "    approx_var = np.sum((1-keep_prob)*keep_prob*incorporated_company_count_arr)\n",
    "\n",
    "    log_prob = -(1/2)*np.log(2*np.pi*approx_var) - ((final_active_company_count-approx_loc)**2/(2*approx_var))\n",
    "\n",
    "    return log_prob\n",
    "\n",
    "#####\n",
    "\n",
    "# compute log-probabilities for a range of values\n",
    "attrition_rate_arr = np.linspace(1e-5, 1000e-5, 5000)\n",
    "log_prob_arr = np.zeros_like(attrition_rate_arr)\n",
    "\n",
    "for i_r, cur_r in enumerate(attrition_rate_arr):\n",
    "    log_prob_arr[i_r] = observation_log_prob(\n",
    "        cur_r,\n",
    "        company_count_arr,\n",
    "        inc_dynamics_df.active_company_count.sum()\n",
    "    )\n",
    "\n",
    "# normalize and plot result\n",
    "prob_arr = np.exp(log_prob_arr - sp_sp.logsumexp(log_prob_arr))\n",
    "mle_attrition_rate = attrition_rate_arr[np.argmax(prob_arr)]\n",
    "\n",
    "ci_q = 0.05\n",
    "left_ci = attrition_rate_arr[np.argmin(np.abs(np.cumsum(prob_arr) - ci_q/2))]\n",
    "right_ci = attrition_rate_arr[np.argmin(np.abs(np.cumsum(prob_arr) - (1-ci_q/2)))]\n",
    "\n",
    "fig, ax = pp.subplots(figsize=(10, 3))\n",
    "ax.plot(attrition_rate_arr, prob_arr)\n",
    "ax.axvline(mle_attrition_rate, color='r', linestyle='--')\n",
    "ax.axvline(left_ci, color='k', linestyle='--')\n",
    "ax.axvline(right_ci, color='k', linestyle='--')\n",
    "ax.grid()\n",
    "ax.set_xlabel('monthly attrition rate')\n",
    "ax.set_ylabel('Probability')\n",
    "ax.set_title(f'Attrition rate for {chosen_spc}')\n",
    "#ax.set_xlim([0, 2*mle_attrition_rate])\n",
    "\n",
    "print(f'MLE: {mle_attrition_rate*100:.6f}%')\n",
    "print(f'CI: [{left_ci*100:.6f}%, {right_ci*100:.6f}%]')\n"
   ]
  },
  {
   "cell_type": "code",
   "execution_count": 11,
   "id": "676de666-b1ae-4fdf-9435-7ba2d26c919c",
   "metadata": {},
   "outputs": [
    {
     "data": {
      "text/html": [
       "<div>\n",
       "<style scoped>\n",
       "    .dataframe tbody tr th:only-of-type {\n",
       "        vertical-align: middle;\n",
       "    }\n",
       "\n",
       "    .dataframe tbody tr th {\n",
       "        vertical-align: top;\n",
       "    }\n",
       "\n",
       "    .dataframe thead th {\n",
       "        text-align: right;\n",
       "    }\n",
       "</style>\n",
       "<table border=\"1\" class=\"dataframe\">\n",
       "  <thead>\n",
       "    <tr style=\"text-align: right;\">\n",
       "      <th></th>\n",
       "      <th>simplified_pc</th>\n",
       "      <th>active_company_count</th>\n",
       "      <th>company_count</th>\n",
       "    </tr>\n",
       "  </thead>\n",
       "  <tbody>\n",
       "    <tr>\n",
       "      <th>10</th>\n",
       "      <td>TR109</td>\n",
       "      <td>254</td>\n",
       "      <td>467</td>\n",
       "    </tr>\n",
       "  </tbody>\n",
       "</table>\n",
       "</div>"
      ],
      "text/plain": [
       "   simplified_pc  active_company_count  company_count\n",
       "10         TR109                   254            467"
      ]
     },
     "execution_count": 11,
     "metadata": {},
     "output_type": "execute_result"
    }
   ],
   "source": [
    "filtered_spc_df.query(f'simplified_pc==\"{chosen_spc}\"')"
   ]
  },
  {
   "cell_type": "code",
   "execution_count": 12,
   "id": "ee261594-ca3b-467f-bb64-b42d624a34d0",
   "metadata": {},
   "outputs": [
    {
     "data": {
      "text/plain": [
       "array([0.45610278])"
      ]
     },
     "execution_count": 12,
     "metadata": {},
     "output_type": "execute_result"
    }
   ],
   "source": [
    "cur_df = filtered_spc_df.query(f'simplified_pc==\"{chosen_spc}\"')\n",
    "1-(cur_df.active_company_count/cur_df.company_count).values"
   ]
  },
  {
   "cell_type": "code",
   "execution_count": 14,
   "id": "cd7b4c9c-ba22-4662-8a3e-e2534c287fb1",
   "metadata": {},
   "outputs": [
    {
     "data": {
      "text/plain": [
       "np.float64(0.7265191)"
      ]
     },
     "execution_count": 14,
     "metadata": {},
     "output_type": "execute_result"
    }
   ],
   "source": [
    "np.mean([\n",
    "    0.695044, 0.746803, 0.830736, 0.655476, 0.695044,\n",
    "    0.777978, 0.695044, 0.777978, 0.644285, 0.746803\n",
    "    \n",
    "])"
   ]
  },
  {
   "cell_type": "code",
   "execution_count": 17,
   "id": "55958c13-c2b2-49e4-8822-383bb4c190f7",
   "metadata": {},
   "outputs": [
    {
     "data": {
      "text/plain": [
       "0.0005641426501963309"
      ]
     },
     "execution_count": 17,
     "metadata": {},
     "output_type": "execute_result"
    }
   ],
   "source": [
    "1-0.85**(1/(12*24))"
   ]
  },
  {
   "cell_type": "code",
   "execution_count": null,
   "id": "ceef5295-acde-4995-bd23-94f2710f057d",
   "metadata": {},
   "outputs": [],
   "source": []
  }
 ],
 "metadata": {
  "kernelspec": {
   "display_name": "Python 3 (ipykernel)",
   "language": "python",
   "name": "python3"
  },
  "language_info": {
   "codemirror_mode": {
    "name": "ipython",
    "version": 3
   },
   "file_extension": ".py",
   "mimetype": "text/x-python",
   "name": "python",
   "nbconvert_exporter": "python",
   "pygments_lexer": "ipython3",
   "version": "3.10.12"
  }
 },
 "nbformat": 4,
 "nbformat_minor": 5
}
